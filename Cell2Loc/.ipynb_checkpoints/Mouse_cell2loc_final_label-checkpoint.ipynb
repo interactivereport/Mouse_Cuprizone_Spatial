{
 "cells": [
  {
   "cell_type": "code",
   "execution_count": null,
   "id": "6023c3c2-f95e-401e-ad1b-2d769faa0bde",
   "metadata": {},
   "outputs": [],
   "source": [
    "# Load packages\n",
    "\n",
    "import sys\n",
    "import os\n",
    "\n",
    "import scanpy as sc\n",
    "import anndata\n",
    "import pandas as pd\n",
    "import numpy as np\n",
    "import matplotlib.pyplot as plt\n",
    "import matplotlib as mpl\n",
    "\n",
    "import cell2location\n",
    "import scvi\n",
    "\n",
    "from matplotlib import rcParams\n",
    "rcParams['pdf.fonttype'] = 42 # enables correct plotting of text\n",
    "import seaborn as sns\n",
    "\n",
    "sid = int(os.getenv('SLURM_ARRAY_TASK_ID')) - 1\n",
    "#sid = 1"
   ]
  },
  {
   "cell_type": "code",
   "execution_count": null,
   "id": "a8eeea2b-a536-4f61-91d4-2b46d5b44e6d",
   "metadata": {},
   "outputs": [],
   "source": [
    "#read metadata file\n",
    "ID_map = pd.read_csv(\"/edgehpc/dept/compbio/projects/TST11523/mouse_cpz/ID.map.csv\")\n",
    "ID_map.head(5)"
   ]
  },
  {
   "cell_type": "code",
   "execution_count": null,
   "id": "3f1aa77d-d9f6-49d5-99bd-b97fc8f9d50e",
   "metadata": {},
   "outputs": [],
   "source": [
    "sample_id = ID_map[\"SampleID\"][sid]\n",
    "sample_id"
   ]
  },
  {
   "cell_type": "code",
   "execution_count": null,
   "id": "614fc0b1-24db-417a-966b-6e974f96293b",
   "metadata": {},
   "outputs": [],
   "source": [
    "ref_id = ID_map[\"Number\"][sid]\n",
    "ref_id"
   ]
  },
  {
   "cell_type": "code",
   "execution_count": null,
   "id": "26b29406-ff67-481f-9c88-4fb32dc6b94d",
   "metadata": {},
   "outputs": [],
   "source": [
    "#define input folder and result folder\n",
    "sp_data_folder = \"/edgehpc/dept/compbio/projects/TST11523/mouse_cpz/data-raw/\"\n",
    "sc_data_folder = \"/edgehpc/dept/compbio/projects/TST11523/mouse_cpz/data-raw/snRNAseq/cuprizonemouse_brain_alllevels_comb_clean_splitsamples/\"\n",
    "results_folder = \"/edgehpc/dept/compbio/projects/TST11523/mouse_cpz/out/cell2location/\" + sample_id\n",
    "run_name = \"/edgehpc/dept/compbio/projects/TST11523/mouse_cpz/out/cell2location/\" + sample_id + '/cell2location_map'\n",
    "ref_run_name = \"/edgehpc/dept/compbio/projects/TST11523/mouse_cpz/out/cell2location/\" + sample_id + '/reference_signatures'\n",
    "if os.path.exists(results_folder) is not True:\n",
    "    #os.mkdir('./results')\n",
    "    os.mkdir(results_folder)\n",
    "    os.mkdir(run_name)\n",
    "    os.mkdir(ref_run_name)"
   ]
  },
  {
   "cell_type": "code",
   "execution_count": 9,
   "id": "d42df3f1-9482-4d7a-b49f-c32e78434d97",
   "metadata": {},
   "outputs": [],
   "source": [
    "#read snRNA-Seq data\n",
    "snrna=anndata.read_h5ad(\"/edgehpc/dept/compbio/users/msheehan/msheehan/sc_sn_RNAseq/20220713_TST11621_cuprizone_finalLT/20220720_cuprizonemousebrain_cell2loc_and_OL_labels_added_clean.h5ad\")"
   ]
  },
  {
   "cell_type": "code",
   "execution_count": 10,
   "id": "0e099b47-2294-4f5a-84d8-899f5ca83626",
   "metadata": {},
   "outputs": [],
   "source": [
    "#subset a sample from snRNA-Seq \n",
    "adata_snrna = snrna[snrna.obs['Number']==ref_id]"
   ]
  },
  {
   "cell_type": "code",
   "execution_count": 14,
   "id": "4a9530d9-931b-4cce-b1be-32b4907e911d",
   "metadata": {},
   "outputs": [],
   "source": [
    "#generate new anndata\n",
    "X = adata_snrna.raw.X\n",
    "adata_ref = anndata.AnnData(X, obs=adata_snrna.obs, var=adata_snrna.var, dtype='int32')"
   ]
  },
  {
   "cell_type": "code",
   "execution_count": null,
   "id": "13216d8e-cf58-4c04-8948-942c7210e18c",
   "metadata": {},
   "outputs": [],
   "source": [
    "#rename gene_ids-2G-2' to'gene_ids'\n",
    "adata_ref.var.rename(columns = {'gene_ids-2G-2':'gene_ids'}, inplace = True)\n",
    "adata_ref"
   ]
  },
  {
   "cell_type": "code",
   "execution_count": null,
   "id": "c9ca2c29-1df7-402e-a264-6a098cf3c7ce",
   "metadata": {},
   "outputs": [],
   "source": [
    "# Use ENSEMBL as gene IDs to make sure IDs are unique and correctly matched\n",
    "adata_ref.raw = adata_ref\n",
    "adata_ref.var['SYMBOL'] = adata_ref.var.index\n",
    "adata_ref.var.index = adata_ref.var['gene_ids'].copy()\n",
    "adata_ref.var_names = adata_ref.var['gene_ids'].copy()\n",
    "adata_ref.var.index.name = None\n",
    "adata_ref.raw.var['SYMBOL'] = adata_ref.raw.var.index\n",
    "adata_ref.raw.var.index = adata_ref.raw.var['gene_ids'].copy()\n",
    "adata_ref.raw.var.index.name = None"
   ]
  },
  {
   "cell_type": "code",
   "execution_count": null,
   "id": "6e8ab8f1-27d0-4853-9e4d-428210b55d94",
   "metadata": {},
   "outputs": [],
   "source": [
    "# remove cells and genes with 0 counts everywhere\n",
    "sc.pp.filter_cells(adata_ref, min_genes=1)\n",
    "sc.pp.filter_genes(adata_ref, min_cells=1)"
   ]
  },
  {
   "cell_type": "code",
   "execution_count": null,
   "id": "a6f5e036-cb21-4e69-b68b-e8be3d22e85c",
   "metadata": {},
   "outputs": [],
   "source": [
    "## before we estimate the reference cell type signature we recommend to perform very permissive genes selection\n",
    "## in this 2D histogram orange rectangle lays over excluded genes.\n",
    "from cell2location.utils.filtering import filter_genes\n",
    "selected = filter_genes(adata_ref, cell_count_cutoff=5, cell_percentage_cutoff2=0.03, nonz_mean_cutoff=1.12)\n",
    "\n",
    "## filter the object\n",
    "adata_ref = adata_ref[:, selected].copy()"
   ]
  },
  {
   "cell_type": "code",
   "execution_count": null,
   "id": "81a90431-6e32-45fd-a57e-8ec117b133b7",
   "metadata": {},
   "outputs": [],
   "source": [
    "## prepare anndata for the regression model\n",
    "scvi.data.setup_anndata(adata=adata_ref,\n",
    "                        # 10X reaction / sample / batch\n",
    "                        batch_key='Number',\n",
    "                        # cell type, covariate used for constructing signatures\n",
    "                        labels_key='final_label',\n",
    "                        # multiplicative technical effects (platform, 3' vs 5', donor effect)\n",
    "                        #categorical_covariate_keys=['BiogenBatch']\n",
    "                       )\n",
    "scvi.data.view_anndata_setup(adata_ref)"
   ]
  },
  {
   "cell_type": "code",
   "execution_count": null,
   "id": "913c55fe-d35d-4db9-a8ef-f8472bb65d32",
   "metadata": {},
   "outputs": [],
   "source": [
    "## create and train the regression model\n",
    "from cell2location.models import RegressionModel\n",
    "mod = RegressionModel(adata_ref)\n",
    "\n",
    "## Use all data for training (validation not implemented yet, train_size=1)\n",
    "## Increase max_epochs if plot is still decreasing (default 250) \n",
    "mod.train(max_epochs=300, batch_size=2500, train_size=1, lr=0.002, use_gpu=True)\n",
    "\n",
    "# plot ELBO loss history during training, removing first 20 epochs from the plot\n",
    "mod.plot_history(20)"
   ]
  },
  {
   "cell_type": "code",
   "execution_count": null,
   "id": "c2f85abc-3483-4666-9553-26f3fc95443b",
   "metadata": {},
   "outputs": [],
   "source": [
    "# In this section, we export the estimated cell abundance (summary of the posterior distribution).\n",
    "adata_ref = mod.export_posterior(\n",
    "    adata_ref, sample_kwargs={'num_samples': 1000, 'batch_size': 2500, 'use_gpu': True}\n",
    ")\n",
    "\n",
    "# Save model\n",
    "mod.save(f\"{ref_run_name}\", overwrite=True)\n",
    "\n",
    "# Save anndata object with results\n",
    "adata_file = f\"{ref_run_name}/sc.h5ad\"\n",
    "adata_ref.write(adata_file)\n",
    "adata_file"
   ]
  },
  {
   "cell_type": "code",
   "execution_count": null,
   "id": "45d85a66-08f9-4905-9161-61074a42af36",
   "metadata": {},
   "outputs": [],
   "source": [
    "# Plot QC \n",
    "mod.plot_QC()"
   ]
  },
  {
   "cell_type": "code",
   "execution_count": null,
   "id": "167edd4e-1be1-46a5-8d0a-b8adbfd83b19",
   "metadata": {},
   "outputs": [],
   "source": [
    "# export estimated expression in each cluster\n",
    "\n",
    "if 'means_per_cluster_mu_fg' in adata_ref.varm.keys():\n",
    "    inf_aver = adata_ref.varm['means_per_cluster_mu_fg'][[f'means_per_cluster_mu_fg_{i}'\n",
    "                                    for i in adata_ref.uns['mod']['factor_names']]].copy()\n",
    "else:\n",
    "    inf_aver = adata_ref.var[[f'means_per_cluster_mu_fg_{i}'\n",
    "                                    for i in adata_ref.uns['mod']['factor_names']]].copy()\n",
    "inf_aver.columns = adata_ref.uns['mod']['factor_names']\n",
    "inf_aver.iloc[0:5, 0:5]"
   ]
  },
  {
   "cell_type": "code",
   "execution_count": null,
   "id": "97e5be5b-ab24-46f5-8d79-d4b4e40a746c",
   "metadata": {},
   "outputs": [],
   "source": [
    "# Define functions for loading in samples\n",
    "\n",
    "def read_and_qc(sample_name, path=sp_data_folder): #+ 'rawdata/'):\n",
    "    r\"\"\" This function reads the data for one 10X spatial experiment into the anndata object.\n",
    "    It also calculates QC metrics. Modify this function if required by your workflow.\n",
    "\n",
    "    :param sample_name: Name of the sample\n",
    "    :param path: path to data\n",
    "    \"\"\"\n",
    "\n",
    "    adata = sc.read_visium(path + str(sample_name),\n",
    "                           count_file='filtered_feature_bc_matrix.h5', load_images=True)\n",
    "    adata.obs['sample'] = sample_name\n",
    "    adata.var['SYMBOL'] = adata.var_names\n",
    "    adata.var.rename(columns={'gene_ids': 'ENSEMBL'}, inplace=True)\n",
    "    adata.var_names = adata.var['ENSEMBL']\n",
    "    adata.var.drop(columns='ENSEMBL', inplace=True)\n",
    "\n",
    "    # Calculate QC metrics\n",
    "    sc.pp.calculate_qc_metrics(adata, inplace=True)\n",
    "    adata.var['mt'] = [gene.startswith('mt-') for gene in adata.var['SYMBOL']]\n",
    "    adata.obs['mt_frac'] = adata[:, adata.var['mt'].tolist()].X.sum(1).A.squeeze()/adata.obs['total_counts']\n",
    "\n",
    "    # add sample name to obs names\n",
    "    adata.obs[\"sample\"] = [str(i) for i in adata.obs['sample']]\n",
    "    adata.obs_names = adata.obs[\"sample\"] \\\n",
    "                          + '_' + adata.obs_names\n",
    "    adata.obs.index.name = 'spot_id'\n",
    "    return adata\n",
    "\n",
    "def select_slide(adata, s, s_col='sample'):\n",
    "    r\"\"\" This function selects the data for one slide from the spatial anndata object.\n",
    "\n",
    "    :param adata: Anndata object with multiple spatial experiments\n",
    "    :param s: name of selected experiment\n",
    "    :param s_col: column in adata.obs listing experiment name for each location\n",
    "    \"\"\"\n",
    "\n",
    "    slide = adata[adata.obs[s_col].isin([s]), :]\n",
    "    s_keys = list(slide.uns['spatial'].keys())\n",
    "    s_spatial = np.array(s_keys)[[s in k for k in s_keys]][0]\n",
    "\n",
    "    slide.uns['spatial'] = {s_spatial: slide.uns['spatial'][s_spatial]}\n",
    "\n",
    "    return slide"
   ]
  },
  {
   "cell_type": "code",
   "execution_count": null,
   "id": "f86011b0-4ab9-43d4-8cf6-e7656d8129ad",
   "metadata": {},
   "outputs": [],
   "source": [
    "# Load Visium data\n",
    "\n",
    "# create paths and names to results folders for reference regression and cell2location models\n",
    "ref_run_name = f'{results_folder}/reference_signatures'\n",
    "run_name = f'{results_folder}/cell2location_map'\n",
    "\n",
    "adata_vis=read_and_qc(sample_id, path=sp_data_folder)"
   ]
  },
  {
   "cell_type": "code",
   "execution_count": null,
   "id": "a6f64c29-311b-4924-a543-992521a4fbb2",
   "metadata": {},
   "outputs": [],
   "source": [
    "# find mitochondria-encoded (MT) genes\n",
    "adata_vis.var['mt_gene'] = [gene.startswith('mt-') for gene in adata_vis.var['SYMBOL']]\n",
    "\n",
    "# remove MT genes for spatial mapping (keeping their counts in the object)\n",
    "adata_vis.obsm['mt'] = adata_vis[:, adata_vis.var['mt_gene'].values].X.toarray()\n",
    "adata_vis = adata_vis[:, ~adata_vis.var['mt_gene'].values]"
   ]
  },
  {
   "cell_type": "code",
   "execution_count": null,
   "id": "86a9d89e-b87c-4639-a0b2-7b535b886b16",
   "metadata": {},
   "outputs": [],
   "source": [
    "adata_vis"
   ]
  },
  {
   "cell_type": "code",
   "execution_count": null,
   "id": "c8a0c1d0-ff2d-4d41-aed1-5b3adcc5338d",
   "metadata": {},
   "outputs": [],
   "source": [
    "adata_vis.obs[\"sample\"].value_counts()"
   ]
  },
  {
   "cell_type": "code",
   "execution_count": null,
   "id": "3a87f3b6-ccaa-449a-8f70-59c484c8ee92",
   "metadata": {},
   "outputs": [],
   "source": [
    "# Spatial mapping\n",
    "## find shared genes and subset both anndata and reference signatures\n",
    "intersect = np.intersect1d(adata_vis.var_names, inf_aver.index)\n",
    "adata_vis = adata_vis[:, intersect].copy()\n",
    "inf_aver = inf_aver.loc[intersect, :].copy()\n",
    "\n",
    "## prepare anndata for cell2location model\n",
    "scvi.data.setup_anndata(adata=adata_vis, batch_key=\"sample\")\n",
    "scvi.data.view_anndata_setup(adata_vis)"
   ]
  },
  {
   "cell_type": "code",
   "execution_count": null,
   "id": "7ddadd26-7497-4a23-86a4-df2627421de3",
   "metadata": {},
   "outputs": [],
   "source": [
    "# create model\n",
    "mod = cell2location.models.Cell2location(\n",
    "    adata_vis, cell_state_df=inf_aver,\n",
    "    # the expected average cell abundance: tissue-dependent\n",
    "    # hyper-prior which can be estimated from paired histology:\n",
    "    N_cells_per_location=5,\n",
    "    # hyperparameter controlling normalisation of\n",
    "    # within-experiment variation in RNA detection (using default here):\n",
    "    detection_alpha=200\n",
    ")"
   ]
  },
  {
   "cell_type": "code",
   "execution_count": null,
   "id": "fcb79a29-734f-4be2-82c9-804e81d8d620",
   "metadata": {},
   "outputs": [],
   "source": [
    "# train model\n",
    "mod.train(max_epochs=30000,\n",
    "          # train using full data (batch_size=None)\n",
    "          batch_size=None,\n",
    "          # use all data points in training because\n",
    "          # we need to estimate cell abundance at all locations\n",
    "          train_size=1,\n",
    "          use_gpu=True)\n",
    "\n",
    "# plot ELBO loss history during training, removing first 100 epochs from the plot\n",
    "mod.plot_history(1000)\n",
    "plt.legend(labels=['full data training']);"
   ]
  },
  {
   "cell_type": "code",
   "execution_count": null,
   "id": "b077a61c-efdf-4662-a846-ef8190cd8a2c",
   "metadata": {},
   "outputs": [],
   "source": [
    "# In this section, we export the estimated cell abundance (summary of the posterior distribution).\n",
    "adata_vis = mod.export_posterior(\n",
    "    adata_vis, sample_kwargs={'num_samples': 1000, 'batch_size': mod.adata.n_obs, 'use_gpu': True}\n",
    ")\n",
    "\n",
    "# Save model\n",
    "mod.save(f\"{run_name}\", overwrite=True)\n",
    "\n",
    "# mod = cell2location.models.Cell2location.load(f\"{run_name}\", adata_vis)\n",
    "\n",
    "# Save anndata object with results\n",
    "adata_file = f\"{run_name}/sp.h5ad\"\n",
    "adata_vis.write(adata_file)\n",
    "adata_file"
   ]
  },
  {
   "cell_type": "code",
   "execution_count": null,
   "id": "d56bf45d-425a-4cfa-9079-578f670ff838",
   "metadata": {},
   "outputs": [],
   "source": [
    "# add 5% quantile, representing confident cell abundance, 'at least this amount is present',\n",
    "# to adata.obs with nice names for plotting\n",
    "adata_vis.obs[adata_vis.uns['mod']['factor_names']] = adata_vis.obsm['q05_cell_abundance_w_sf']\n",
    "celltypes = adata_vis.uns['mod']['factor_names']\n",
    "#reorder = [0,7,12,13,14,15,6,1,2,3,4,5,8,9,10,11]\n",
    "\n",
    "# select one slide\n",
    "#from cell2location.utils import select_slide\n",
    "#slide = select_slide(adata_vis, sample_list[0])\n",
    "\n",
    "# plot in spatial coordinates\n",
    "with mpl.rc_context({'axes.facecolor':  'black',\n",
    "                     'figure.figsize': [4.5, 5]}):\n",
    "\n",
    "    sc.pl.spatial(adata_vis, cmap='magma',\n",
    "                  #color = [celltypes[i] for i in reorder],\n",
    "                  color = celltypes,\n",
    "                  ncols=4, size=1.3,\n",
    "                  img_key='lowres',\n",
    "                  # limit color scale at 99.2% quantile of cell abundance\n",
    "                  vmin=0, vmax='p99.2'\n",
    "                 )"
   ]
  },
  {
   "cell_type": "code",
   "execution_count": null,
   "id": "e7508a35-fb0d-45dc-8581-325e5ad3cd24",
   "metadata": {},
   "outputs": [],
   "source": [
    "# Compute expected expression per cell type\n",
    "expected_dict = mod.module.model.compute_expected_per_cell_type(\n",
    "    mod.samples[\"post_sample_q05\"], mod.adata\n",
    ")"
   ]
  },
  {
   "cell_type": "code",
   "execution_count": null,
   "id": "b8378fdd-ac55-4f18-81ef-1d422c191b82",
   "metadata": {},
   "outputs": [],
   "source": [
    "# Add to anndata layers\n",
    "for i, n in enumerate(mod.factor_names_):\n",
    "    adata_vis.layers[n] = expected_dict['mu'][i]"
   ]
  },
  {
   "cell_type": "code",
   "execution_count": null,
   "id": "42e40ac6-c6f2-4235-90ba-8cbc7a75a83e",
   "metadata": {},
   "outputs": [],
   "source": [
    "# Save anndata object with results\n",
    "adata_file = f\"{run_name}/sp.h5ad\"\n",
    "adata_vis.write(adata_file)\n",
    "adata_file"
   ]
  }
 ],
 "metadata": {
  "kernelspec": {
   "display_name": "cell2loc",
   "language": "python",
   "name": "cell2loc_env"
  },
  "language_info": {
   "codemirror_mode": {
    "name": "ipython",
    "version": 3
   },
   "file_extension": ".py",
   "mimetype": "text/x-python",
   "name": "python",
   "nbconvert_exporter": "python",
   "pygments_lexer": "ipython3",
   "version": "3.9.7"
  }
 },
 "nbformat": 4,
 "nbformat_minor": 5
}
